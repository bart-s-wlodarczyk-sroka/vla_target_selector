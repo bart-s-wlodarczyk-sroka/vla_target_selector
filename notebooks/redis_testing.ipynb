{
 "cells": [
  {
   "cell_type": "markdown",
   "metadata": {},
   "source": [
    "# BSRC: Summer 2019 Research Project\n",
    "\n",
    "## Connecting to a Redis Database and Processing Messages\n",
    "\n",
    "This notebook will be used for sending and receiving messages through a Redis channel. The MeerKAT Breakthrough Listen Backend operates by sending messages through a Redis server over channels. This code will have to subscribe to multiple alert channels and act on the information passed along.\n",
    "\n",
    "### Connecting to Redis Channel\n",
    "\n",
    "The goal of this notebook will be to test connecting to databases and redis channels and act on the information sent over. I have a sample schedule block that I will publish to a redis channel and process by listening to that same channel. Most of the code that I've written is stored under the poorly named query_db.py and connector.py files. Here connections to the MySQL databases and redis channels, as well as the messages that pass over these channels, are handled. I'll start by importing these modules.\n",
    "\n",
    "```\n",
    ">>> redis-server\n",
    "```\n",
    "\n",
    "Then, in another terminal window, run the following command:\n",
    "\n",
    "```\n",
    ">>> python target_selector_start.py\n",
    "```"
   ]
  },
  {
   "cell_type": "code",
   "execution_count": 13,
   "metadata": {},
   "outputs": [],
   "source": [
    "import json\n",
    "import redis\n",
    "import numpy as np\n",
    "import yaml\n",
    "import time\n",
    "import re"
   ]
  },
  {
   "cell_type": "markdown",
   "metadata": {},
   "source": [
    "### Using Example Message"
   ]
  },
  {
   "cell_type": "markdown",
   "metadata": {},
   "source": [
    "Most of the information that will be received from the Redis server in specific channels. The channels will send over strings of information pertinent to the observation. In this case, the schedule_block (or targets) channel will contain a string formatted like a dictionary. For the purposes of testing, I can load in an example schedule block message that will be similar to one that will be sent over a redis channel later. I'll start by connecting to the Redis server and loading in the sample message."
   ]
  },
  {
   "cell_type": "code",
   "execution_count": 2,
   "metadata": {},
   "outputs": [],
   "source": [
    "with open('../test/channels.txt', 'r') as f:\n",
    "    channel = f.read()\n",
    "    \n",
    "with open('../test/messages.txt', 'r') as f:\n",
    "    messages = f.read()"
   ]
  },
  {
   "cell_type": "code",
   "execution_count": 3,
   "metadata": {},
   "outputs": [],
   "source": [
    "chnls = channel.split('\\n')\n",
    "msgs = messages.split('\\n')"
   ]
  },
  {
   "cell_type": "code",
   "execution_count": 4,
   "metadata": {},
   "outputs": [
    {
     "data": {
      "text/plain": [
       "(54, 54)"
      ]
     },
     "execution_count": 4,
     "metadata": {},
     "output_type": "execute_result"
    }
   ],
   "source": [
    "len(msgs), len(chnls)"
   ]
  },
  {
   "cell_type": "code",
   "execution_count": 5,
   "metadata": {},
   "outputs": [],
   "source": [
    "def publish_key(chan, key, val):\n",
    "    r.set(key, val)\n",
    "    r.publish(chan, key)\n",
    "    return True"
   ]
  },
  {
   "cell_type": "code",
   "execution_count": 6,
   "metadata": {},
   "outputs": [
    {
     "data": {
      "text/plain": [
       "['configure:array_1',\n",
       " 'conf_complete:array_1',\n",
       " 'DESTIP=234.1.21.1+0',\n",
       " 'DESTIP=234.1.21.2+0',\n",
       " 'DESTIP=234.1.21.3+0',\n",
       " 'DESTIP=234.1.21.4+0',\n",
       " 'DESTIP=234.1.21.5+0',\n",
       " 'DESTIP=234.1.21.6+0',\n",
       " 'DESTIP=234.1.21.7+0',\n",
       " 'DESTIP=234.1.21.8+0',\n",
       " 'BINDPORT=1234',\n",
       " 'FENSTRM=8',\n",
       " 'FENCHAN=4096',\n",
       " 'HNCHAN=512',\n",
       " 'HNTIME=256',\n",
       " 'capture-init:array_1',\n",
       " 'array_1:target:radec, 0:00:00.00, -90:00:00.0',\n",
       " 'array_1:subarray_1_pool_resources',\n",
       " 'capture-start:array_1',\n",
       " 'NETSTAT=RECORD',\n",
       " 'm001_data_suspect:True',\n",
       " 'array_1:data_suspect:True',\n",
       " 'm005_data_suspect:True',\n",
       " 'array_1:data_suspect:True',\n",
       " 'm012_data_suspect:True',\n",
       " 'array_1:data_suspect:True',\n",
       " 'm015_data_suspect:True',\n",
       " 'array_1:data_suspect:True',\n",
       " 'm001_data_suspect:False',\n",
       " 'array_1:data_suspect:True',\n",
       " 'm001_data_suspect:True',\n",
       " 'array_1:data_suspect:True',\n",
       " 'm005_data_suspect:False',\n",
       " 'array_1:data_suspect:True',\n",
       " 'm012_data_suspect:False',\n",
       " 'array_1:data_suspect:True',\n",
       " 'm015_data_suspect:False',\n",
       " 'array_1:data_suspect:True',\n",
       " 'm001_data_suspect:False',\n",
       " 'array_1:data_suspect:False',\n",
       " 'capture-stop:array_1',\n",
       " 'NETSTAT=LISTEN',\n",
       " 'capture-done:array_1',\n",
       " 'm001_data_suspect:True',\n",
       " 'array_1:data_suspect:True',\n",
       " 'm012_data_suspect:True',\n",
       " 'array_1:data_suspect:True',\n",
       " 'm005_data_suspect:True',\n",
       " 'array_1:data_suspect:True',\n",
       " 'm015_data_suspect:True',\n",
       " 'array_1:data_suspect:True',\n",
       " 'deconfigure:array_1',\n",
       " 'DESTIP=0.0.0.0',\n",
       " '']"
      ]
     },
     "execution_count": 6,
     "metadata": {},
     "output_type": "execute_result"
    }
   ],
   "source": [
    "msgs"
   ]
  },
  {
   "cell_type": "code",
   "execution_count": 7,
   "metadata": {},
   "outputs": [],
   "source": [
    "r = redis.StrictRedis()"
   ]
  },
  {
   "cell_type": "code",
   "execution_count": 8,
   "metadata": {},
   "outputs": [],
   "source": [
    "pool_resources = 'bluse_1,cbf_1,m001,m005,m012,m015,sdp_1'"
   ]
  },
  {
   "cell_type": "code",
   "execution_count": 9,
   "metadata": {},
   "outputs": [
    {
     "data": {
      "text/plain": [
       "True"
      ]
     },
     "execution_count": 9,
     "metadata": {},
     "output_type": "execute_result"
    }
   ],
   "source": [
    "publish_key('sensor_alerts', 'array_1:subarray_1_pool_resources', pool_resources)"
   ]
  },
  {
   "cell_type": "code",
   "execution_count": 19,
   "metadata": {},
   "outputs": [],
   "source": [
    "for i in range(len(msgs)-3):\n",
    "    if msgs[i].startswith('m0'):\n",
    "        continue\n",
    "    r.publish(chnls[i], msgs[i])\n",
    "    time.sleep(0.05)"
   ]
  },
  {
   "cell_type": "code",
   "execution_count": 10,
   "metadata": {},
   "outputs": [
    {
     "data": {
      "text/plain": [
       "'m001,m005,m012,m015'"
      ]
     },
     "execution_count": 10,
     "metadata": {},
     "output_type": "execute_result"
    }
   ],
   "source": [
    "','.join(re.findall('m\\d\\d\\d', pool_resources))"
   ]
  },
  {
   "cell_type": "code",
   "execution_count": 11,
   "metadata": {},
   "outputs": [
    {
     "data": {
      "text/plain": [
       "['m001', 'm005', 'm012', 'm015']"
      ]
     },
     "execution_count": 11,
     "metadata": {},
     "output_type": "execute_result"
    }
   ],
   "source": [
    "re.findall('m\\d{3}', pool_resources)"
   ]
  },
  {
   "cell_type": "code",
   "execution_count": 13,
   "metadata": {},
   "outputs": [
    {
     "data": {
      "text/plain": [
       "['bluse_1', 'cbf_1', 'sdp_1']"
      ]
     },
     "execution_count": 13,
     "metadata": {},
     "output_type": "execute_result"
    }
   ],
   "source": [
    "re.findall('[a-z A-Z]+_\\d', pool_resources)"
   ]
  },
  {
   "cell_type": "code",
   "execution_count": null,
   "metadata": {},
   "outputs": [],
   "source": []
  }
 ],
 "metadata": {
  "kernelspec": {
   "display_name": "Python 2",
   "language": "python",
   "name": "python2"
  },
  "language_info": {
   "codemirror_mode": {
    "name": "ipython",
    "version": 2
   },
   "file_extension": ".py",
   "mimetype": "text/x-python",
   "name": "python",
   "nbconvert_exporter": "python",
   "pygments_lexer": "ipython2",
   "version": "2.7.16"
  }
 },
 "nbformat": 4,
 "nbformat_minor": 2
}
